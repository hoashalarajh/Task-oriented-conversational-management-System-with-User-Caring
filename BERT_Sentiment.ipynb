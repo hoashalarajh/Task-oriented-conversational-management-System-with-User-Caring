{
 "cells": [
  {
   "cell_type": "markdown",
   "metadata": {},
   "source": [
    "# Fuzzy Output Estimation"
   ]
  },
  {
   "cell_type": "code",
   "execution_count": 14,
   "metadata": {},
   "outputs": [],
   "source": [
    "from simpful import *\n",
    "\n",
    "# calulating the fuzzy output value considering emotional cue and user engagement as input\n",
    "def calc_fuzzy(val1, val2):\n",
    "    # A simple fuzzy inference system for the tipping problem\n",
    "    # A simple fuzzy inference system for the tipping problem\n",
    "    # Create a fuzzy system object\n",
    "    FS = simpful.FuzzySystem()\n",
    "\n",
    "    # Define fuzzy sets and linguistic variables\n",
    "    S_1 = simpful.FuzzySet(points=[[0., 1.], [0.19, 1.], [0.49, 0.0]], term='Negative')\n",
    "    S_2 = simpful.FuzzySet(points=[[0.203 , 0.], [0.503 , 1.], [0.8023, 0.]], term=\"Neutral\")\n",
    "    S_3 = simpful.FuzzySet(points=[[0.5011, 0.], [0.798 , 1.], [1., 1.]], term=\"Positive\")\n",
    "    FS.add_linguistic_variable(\"Emotion\", simpful.LinguisticVariable([S_1, S_2, S_3], concept=\"Recent Emotion\", universe_of_discourse=[0,1]))\n",
    "\n",
    "    F_1 = simpful.FuzzySet(points=[[0., 1.], [0.097, 1.0], [0.2974, 0]], term=\"Very_low\")\n",
    "    F_2 = simpful.FuzzySet(points=[[0.157, 0.0], [0.34, 1.0], [0.5043, 0.0]], term=\"Low\")\n",
    "    F_3 = simpful.FuzzySet(points=[[0.4, 0.0], [0.5, 1], [0.6008, 0.0]], term=\"Medium\")\n",
    "    F_4 = simpful.FuzzySet(points=[[0.5, 0.0], [0.758, 1.0], [0.851, 0.0]], term=\"High\")\n",
    "    F_5 = simpful.FuzzySet(points=[[0.702, 0.0], [0.9009, 1], [1.0, 1.0]], term=\"Very_High\")\n",
    "    FS.add_linguistic_variable(\"Engagement\", simpful.LinguisticVariable([F_1, F_2, F_3, F_4, F_5], concept=\"User Engagement\", universe_of_discourse=[0,1]))\n",
    "\n",
    "    # Define output crisp values\n",
    "    FS.set_crisp_output_value(\"Supporting\", 0.1)\n",
    "    FS.set_crisp_output_value(\"Listening\", 0.5)\n",
    "    FS.set_crisp_output_value(\"Main\", 1.0)\n",
    "\n",
    "    # Define function for generous tip (food score + service score + 5%)\n",
    "    #FS.set_output_function(\"generous\", \"Food+Service+5\")\n",
    "\n",
    "    # Define fuzzy rules\n",
    "    R1 = \"IF (Emotion IS Negative) AND (Engagement IS Very_low) THEN (Tip IS Supporting)\"\n",
    "    R2 = \"IF (Emotion IS Negative) AND (Engagement IS Low) THEN (Tip IS Supporting)\"\n",
    "    R3 = \"IF (Emotion IS Negative) AND (Engagement IS Medium) THEN (Tip IS Supporting)\"\n",
    "    R4 = \"IF (Emotion IS Negative) AND (Engagement IS High) THEN (Tip IS Listening)\"\n",
    "    R5 = \"IF (Emotion IS Negative) AND (Engagement IS Very_High) THEN (Tip IS Listening)\"\n",
    "    R6 = \"IF (Emotion IS Neutral) AND (Engagement IS Very_low) THEN (Tip IS Supporting)\"\n",
    "    R7 = \"IF (Emotion IS Neutral) AND (Engagement IS Low) THEN (Tip IS Supporting)\"\n",
    "    R8 = \"IF (Emotion IS Neutral) AND (Engagement IS Medium) THEN (Tip IS Listening)\"\n",
    "    R9 = \"IF (Emotion IS Neutral) AND (Engagement IS High) THEN (Tip IS Main)\"\n",
    "    R10 = \"IF (Emotion IS Neutral) AND (Engagement IS Very_High) THEN (Tip IS Main)\"\n",
    "    R11 = \"IF (Emotion IS Positive) AND (Engagement IS Very_low) THEN (Tip IS Supporting)\"\n",
    "    R12 = \"IF (Emotion IS Positive) AND (Engagement IS Low) THEN (Tip IS Supporting)\"\n",
    "    R13 = \"IF (Emotion IS Positive) AND (Engagement IS Medium) THEN (Tip IS Listening)\"\n",
    "    R14 = \"IF (Emotion IS Positive) AND (Engagement IS High) THEN (Tip IS Main)\"\n",
    "    R15 = \"IF (Emotion IS Positive) AND (Engagement IS Very_High) THEN (Tip IS Main)\"\n",
    "    FS.add_rules([R1, R2, R3,R4,R5,R6,R7,R8,R9,R10,R11,R12,R13,R14,R15])\n",
    "\n",
    "\n",
    "    # Set antecedents values\n",
    "    FS.set_variable(\"Emotion\", val1)\n",
    "    FS.set_variable(\"Engagement\", val2)\n",
    "\n",
    "    # Perform Sugeno inference and print output\n",
    "    return(FS.Sugeno_inference([\"Tip\"]))"
   ]
  },
  {
   "cell_type": "code",
   "execution_count": 15,
   "metadata": {},
   "outputs": [
    {
     "name": "stdout",
     "output_type": "stream",
     "text": [
      "  ____  __  _  _  ____  ____  _  _  __   \n",
      " / ___)(  )( \\/ )(  _ \\(  __)/ )( \\(  ) v2.11.0 \n",
      " \\___ \\ )( / \\/ \\ ) __/ ) _) ) \\/ (/ (_/\\ \n",
      " (____/(__)\\_)(_/(__)  (__)  \\____/\\____/\n",
      "\n",
      " Created by Marco S. Nobile (m.s.nobile@tue.nl)\n",
      " and Simone Spolaor (simone.spolaor@unimib.it)\n",
      "\n",
      " * Detected Sugeno model type\n",
      "{'Tip': 0.27178555558459894}\n",
      "  ____  __  _  _  ____  ____  _  _  __   \n",
      " / ___)(  )( \\/ )(  _ \\(  __)/ )( \\(  ) v2.11.0 \n",
      " \\___ \\ )( / \\/ \\ ) __/ ) _) ) \\/ (/ (_/\\ \n",
      " (____/(__)\\_)(_/(__)  (__)  \\____/\\____/\n",
      "\n",
      " Created by Marco S. Nobile (m.s.nobile@tue.nl)\n",
      " and Simone Spolaor (simone.spolaor@unimib.it)\n",
      "\n",
      " * Detected Sugeno model type\n",
      "{'Tip': 0.7264808362369338}\n",
      "  ____  __  _  _  ____  ____  _  _  __   \n",
      " / ___)(  )( \\/ )(  _ \\(  __)/ )( \\(  ) v2.11.0 \n",
      " \\___ \\ )( / \\/ \\ ) __/ ) _) ) \\/ (/ (_/\\ \n",
      " (____/(__)\\_)(_/(__)  (__)  \\____/\\____/\n",
      "\n",
      " Created by Marco S. Nobile (m.s.nobile@tue.nl)\n",
      " and Simone Spolaor (simone.spolaor@unimib.it)\n",
      "\n",
      " * Detected Sugeno model type\n",
      "{'Tip': 0.10000000000000002}\n",
      "  ____  __  _  _  ____  ____  _  _  __   \n",
      " / ___)(  )( \\/ )(  _ \\(  __)/ )( \\(  ) v2.11.0 \n",
      " \\___ \\ )( / \\/ \\ ) __/ ) _) ) \\/ (/ (_/\\ \n",
      " (____/(__)\\_)(_/(__)  (__)  \\____/\\____/\n",
      "\n",
      " Created by Marco S. Nobile (m.s.nobile@tue.nl)\n",
      " and Simone Spolaor (simone.spolaor@unimib.it)\n",
      "\n",
      " * Detected Sugeno model type\n",
      "{'Tip': 0.10000000000000002}\n"
     ]
    }
   ],
   "source": [
    "import numpy as np\n",
    "array_1 = np.array([\n",
    "    [0.333, 0.5],\n",
    "    [0.333, 0.666],\n",
    "    [0.1666, 0.5],\n",
    "    [0.0, 0.5]\n",
    "\n",
    "])\n",
    "# getting the fuzzy output values\n",
    "for i in array_1:\n",
    "    print (calc_fuzzy(i[0], i[-1]))\n"
   ]
  },
  {
   "cell_type": "code",
   "execution_count": null,
   "metadata": {},
   "outputs": [],
   "source": []
  }
 ],
 "metadata": {
  "kernelspec": {
   "display_name": "Python 3",
   "language": "python",
   "name": "python3"
  },
  "language_info": {
   "codemirror_mode": {
    "name": "ipython",
    "version": 3
   },
   "file_extension": ".py",
   "mimetype": "text/x-python",
   "name": "python",
   "nbconvert_exporter": "python",
   "pygments_lexer": "ipython3",
   "version": "3.10.9"
  }
 },
 "nbformat": 4,
 "nbformat_minor": 2
}
