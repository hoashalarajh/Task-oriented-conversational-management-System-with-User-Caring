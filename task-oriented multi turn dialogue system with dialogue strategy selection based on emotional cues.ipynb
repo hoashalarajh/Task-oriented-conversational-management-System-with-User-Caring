{
 "cells": [
  {
   "cell_type": "markdown",
   "metadata": {},
   "source": [
    "# Adaptive Dialogue System considering emotional cues from users"
   ]
  },
  {
   "cell_type": "code",
   "execution_count": 1,
   "metadata": {},
   "outputs": [
    {
     "name": "stderr",
     "output_type": "stream",
     "text": [
      "c:\\Users\\Hoashalarajh\\AppData\\Local\\Programs\\Python\\Python310\\lib\\site-packages\\tqdm\\auto.py:21: TqdmWarning: IProgress not found. Please update jupyter and ipywidgets. See https://ipywidgets.readthedocs.io/en/stable/user_install.html\n",
      "  from .autonotebook import tqdm as notebook_tqdm\n"
     ]
    }
   ],
   "source": [
    "# natural language processing block\n",
    "import spacy\n",
    "nlp = spacy.load('en_core_web_sm')\n",
    "import string\n",
    "punct = string.punctuation\n",
    "from spacy.lang.en.stop_words import STOP_WORDS\n",
    "stopwords = list(STOP_WORDS) # list of stopwords\n",
    "\n",
    "# creating a function for data cleaning\n",
    "def text_data_cleaning(sentence):\n",
    "  doc = nlp(sentence)\n",
    "\n",
    "  tokens = [] # list of tokens\n",
    "  for token in doc:\n",
    "    if token.lemma_ != \"-PRON-\":\n",
    "      temp = token.lemma_.lower().strip()\n",
    "    else:\n",
    "      temp = token.lower_\n",
    "    tokens.append(temp)\n",
    " \n",
    "  cleaned_tokens = []\n",
    "  for token in tokens:\n",
    "    if token not in stopwords and token not in punct:    # Stopwords and punctuation removal\n",
    "      cleaned_tokens.append(token)\n",
    "  return cleaned_tokens"
   ]
  },
  {
   "cell_type": "code",
   "execution_count": 2,
   "metadata": {},
   "outputs": [
    {
     "name": "stderr",
     "output_type": "stream",
     "text": [
      "C:\\Users\\Hoashalarajh\\AppData\\Local\\Temp\\ipykernel_12096\\908153234.py:5: DeprecationWarning: Please use `csr_matrix` from the `scipy.sparse` namespace, the `scipy.sparse.csr` namespace is deprecated.\n",
      "  loaded_model = pickle.load(file)\n"
     ]
    }
   ],
   "source": [
    "# sentiment analysis model\n",
    "import pickle\n",
    "# Load the saved model using pickle\n",
    "with open('emotion_detector.pkl', 'rb') as file:\n",
    "    loaded_model = pickle.load(file)"
   ]
  },
  {
   "cell_type": "code",
   "execution_count": 3,
   "metadata": {},
   "outputs": [],
   "source": [
    "# defining a fuction to change the topic based on emotional cue of the user\n",
    "def topic_changing(sentence):\n",
    "    prediction = loaded_model.predict(sentence)\n",
    "    if prediction[0] == \"negative\":\n",
    "        return \"negative\"\n",
    "    else:\n",
    "        return \"positive\""
   ]
  },
  {
   "cell_type": "code",
   "execution_count": 4,
   "metadata": {},
   "outputs": [
    {
     "name": "stdout",
     "output_type": "stream",
     "text": [
      "Welcome to the dialogue manager! Let's talk about different topics.\n",
      "Now let's talk about news.\n"
     ]
    },
    {
     "name": "stdout",
     "output_type": "stream",
     "text": [
      "user: okay fine sure we can talk about news\n",
      "Entiment: negative\n",
      "Bot: There was a recent political scandal.\n",
      "user: ah fine it is good to hear\n",
      "Entiment: positive\n",
      "Bot: The stock market experienced a significant drop.\n",
      "user: ah really good  to hear talk more about this\n",
      "Entiment: positive\n",
      "Bot: A new technology was launched.\n",
      "user: it is really waesome and engaging\n",
      "Entiment: positive\n",
      "Now let's talk about sports.\n",
      "user: fine we can\n",
      "Entiment: positive\n",
      "Bot: Football is a popular sport worldwide.\n",
      "user: yeah i know it is very popular and i like footbal also\n",
      "Entiment: positive\n",
      "Bot: Basketball requires great teamwork.\n",
      "user: yeah teamwork is a very good skill everone should have not only in sports but also to lead an awesome life\n",
      "Entiment: positive\n",
      "Bot: Football is a popular sport worldwide.\n",
      "user: fine sure\n",
      "Entiment: positive\n",
      "Now let's talk about news.\n",
      "user: fine we can\n",
      "Entiment: positive\n",
      "Bot: There was a recent political scandal.\n",
      "user: oh really it is bad to hear\n",
      "Entiment: negative\n",
      "Bot: A new technology was launched.\n",
      "user: exit\n",
      "Entiment: negative\n",
      "Goodbye!\n",
      "The emotional state of the user is as belows:\n",
      "['negative', 'positive', 'positive', 'positive', 'positive', 'positive', 'positive', 'positive', 'positive', 'negative']\n",
      "['okay fine sure we can talk about news', 'ah fine it is good to hear', 'ah really good  to hear talk more about this', 'it is really waesome and engaging', 'fine we can', 'yeah i know it is very popular and i like footbal also', 'yeah teamwork is a very good skill everone should have not only in sports but also to lead an awesome life', 'fine sure', 'fine we can', 'oh really it is bad to hear', 'exit']\n"
     ]
    }
   ],
   "source": [
    "# emotional cue based dialogue system\n",
    "import random\n",
    "\n",
    "class DialogueManager:\n",
    "    def __init__(self):\n",
    "        self.topics = {\n",
    "            'sports': [\"Football is a popular sport worldwide.\", \"Basketball requires great teamwork.\", \"Tennis is played with a racket and ball.\"],\n",
    "            'news': [\"There was a recent political scandal.\", \"The stock market experienced a significant drop.\", \"A new technology was launched.\"],\n",
    "            'movies': [\"The latest superhero movie is breaking box office records.\", \"An upcoming thriller film has everyone excited.\", \"A classic romance movie is being remade.\"]\n",
    "        }\n",
    "        self.current_topic = None\n",
    "        # defining the number of interactions\n",
    "        self.num_of_interactions = 0\n",
    "        # a list to store the emotional state of the user\n",
    "        self.emotional_state = []\n",
    "        # storing user resonses\n",
    "        self.user_responses = []\n",
    "\n",
    "\n",
    "\n",
    "    def start_dialogue(self):\n",
    "        print(\"Welcome to the dialogue manager! Let's talk about different topics.\")\n",
    "        self.change_topic()\n",
    "\n",
    "        while True:\n",
    "            user_input = input(\"You: \").strip().lower()\n",
    "            # printing user response for particular robot response\n",
    "            print (f\"user: {user_input}\")\n",
    "            self.user_responses.append(user_input)\n",
    "            sentence = [user_input]\n",
    "            emotional_state = topic_changing(sentence)\n",
    "            print (f\"Entiment: {emotional_state}\")\n",
    "\n",
    "            if user_input == \"exit\":\n",
    "                print(\"Goodbye!\")\n",
    "                break\n",
    "\n",
    "            if (self.num_of_interactions >= 3):\n",
    "                self.change_topic()\n",
    "                self.num_of_interactions = 0\n",
    "            else:\n",
    "                self.display_random_info()\n",
    "                self.num_of_interactions = self.num_of_interactions + 1\n",
    "            \n",
    "            # updating the emotional state of the user\n",
    "            self.emotional_state.append(emotional_state)\n",
    "            \n",
    "\n",
    "    def change_topic(self):\n",
    "        self.current_topic = random.choice(list(self.topics.keys()))\n",
    "        print(f\"Now let's talk about {self.current_topic}.\")\n",
    "\n",
    "    def display_random_info(self):\n",
    "        if self.current_topic:\n",
    "            random_info = random.choice(self.topics[self.current_topic])\n",
    "            print(f\"Bot: {random_info}\")\n",
    "        else:\n",
    "            print(\"Bot: I'm not sure what topic we're discussing.\")\n",
    "\n",
    "if __name__ == \"__main__\":\n",
    "    manager = DialogueManager()\n",
    "    manager.start_dialogue()\n",
    "\n",
    "# printing the emotions of the user\n",
    "print (\"The emotional state of the user is as belows:\")\n",
    "print (manager.emotional_state)\n",
    "# printing the user responses\n",
    "print (manager.user_responses)"
   ]
  },
  {
   "cell_type": "code",
   "execution_count": 5,
   "metadata": {},
   "outputs": [
    {
     "name": "stdout",
     "output_type": "stream",
     "text": [
      "['negative', 'positive', 'positive', 'positive', 'positive', 'positive', 'positive', 'positive', 'positive', 'negative']\n"
     ]
    }
   ],
   "source": [
    "emotion = manager.emotional_state\n",
    "print (emotion)"
   ]
  },
  {
   "cell_type": "code",
   "execution_count": 6,
   "metadata": {},
   "outputs": [
    {
     "data": {
      "image/png": "[encoded data removed]",
      "text/plain": [
       "<Figure size 640x480 with 1 Axes>"
      ]
     },
     "metadata": {},
     "output_type": "display_data"
    }
   ],
   "source": [
    "import matplotlib.pyplot as plt\n",
    "def duplicate_elements(input_list):\n",
    "    result_list = []\n",
    "    for item in input_list:\n",
    "        result_list.extend([item] * 2)\n",
    "    return result_list\n",
    "\n",
    "# Your list with \"Positive\" and \"Negative\" elements\n",
    "emotional_list = duplicate_elements(manager.emotional_state)\n",
    "\n",
    "# Convert emotional_list to a list of numerical values\n",
    "numerical_values = [1 if value == \"positive\" else 0 for value in emotional_list]\n",
    "\n",
    "# Create a line graph\n",
    "plt.plot(numerical_values, marker='o')\n",
    "\n",
    "# Adding labels and title\n",
    "plt.xlabel('Data Points')\n",
    "plt.ylabel('Emotional Value')\n",
    "plt.title('Emotional Values Line Graph')\n",
    "\n",
    "# Display the graph\n",
    "plt.show()\n"
   ]
  },
  {
   "cell_type": "code",
   "execution_count": 7,
   "metadata": {},
   "outputs": [
    {
     "data": {
      "image/png": "[encoded data removed]",
      "text/plain": [
       "<Figure size 640x480 with 1 Axes>"
      ]
     },
     "metadata": {},
     "output_type": "display_data"
    }
   ],
   "source": [
    "import matplotlib.pyplot as plt\n",
    "\n",
    "# Your list with \"Positive\" and \"Negative\" elements\n",
    "emotional_list = manager.emotional_state\n",
    "\n",
    "# Count the occurrences of \"Positive\" and \"Negative\"\n",
    "positive_count = emotional_list.count(\"positive\")\n",
    "negative_count = emotional_list.count(\"negative\")\n",
    "\n",
    "# Labels and counts for the bars\n",
    "labels = [\"Positive\", \"Negative\"]\n",
    "counts = [positive_count, negative_count]\n",
    "\n",
    "# Create a bar graph\n",
    "plt.bar(labels, counts, color=['green', 'red'])\n",
    "\n",
    "# Adding labels and title\n",
    "plt.xlabel('Emotional State')\n",
    "plt.ylabel('Count')\n",
    "plt.title('Emotional State Distribution')\n",
    "\n",
    "# Display the graph\n",
    "plt.show()\n"
   ]
  },
  {
   "cell_type": "code",
   "execution_count": 8,
   "metadata": {},
   "outputs": [
    {
     "name": "stdout",
     "output_type": "stream",
     "text": [
      "['negative', 'positive', 'positive', 'positive', 'positive', 'positive', 'positive', 'positive', 'positive', 'negative']\n"
     ]
    }
   ],
   "source": [
    "print (emotion)"
   ]
  },
  {
   "cell_type": "markdown",
   "metadata": {},
   "source": [
    "## Metric Evaluation"
   ]
  },
  {
   "cell_type": "markdown",
   "metadata": {},
   "source": [
    "### Utilizing the above data from the conversation we are going to calculate the following metrics \n",
    "#### Note: All metrics are scaled to 5\n",
    "#### ===========================================================================================================================================\n",
    "#####   (1) Mental State Quality (MSQ) = (Number of Positive Interactions / Total number of Interactions) * 5\n",
    "#####   (2) Information Gathering Quality (IGQ) = (Number of new words in the interaction / Total number of words during the Interaction) * 5\n",
    "#####   (3) Level of Interest (LOI) = (Number of lengthy responses with Positive emotional state / Total number of Interactions) * 5\n",
    "#### ==========================================================================================================================================="
   ]
  },
  {
   "cell_type": "code",
   "execution_count": 9,
   "metadata": {},
   "outputs": [],
   "source": [
    "# defining the mental state quality of the user\n",
    "def mental_state_quality(sentence):\n",
    "    emotion = sentence\n",
    "    positive_mentality = emotion.count(\"positive\")\n",
    "    total_interactions = len(emotion)\n",
    "    # computing MSQ\n",
    "    return (positive_mentality/total_interactions)\n",
    "# printing the mental state quality\n",
    "MSQ = (mental_state_quality(manager.emotional_state)) * 5"
   ]
  },
  {
   "cell_type": "code",
   "execution_count": 10,
   "metadata": {},
   "outputs": [],
   "source": [
    "# metric calulatior\n",
    "def metric_eval(msq,igq,loi,w1,w2,w3):\n",
    "    return((w1*msq + w2*igq + w3*loi)/(w1+w2+w3))"
   ]
  },
  {
   "cell_type": "code",
   "execution_count": 11,
   "metadata": {},
   "outputs": [],
   "source": [
    "# calculating Level of Interest of the user (LoI)\n",
    "def level_of_interest(sentence):\n",
    "    length_of_response = 0\n",
    "    res_len = []\n",
    "    for i in sentence:\n",
    "        sent = i.split(\" \")\n",
    "        res_len.append(len(sent))\n",
    "        length_of_response += len(sent)\n",
    "    # returning ratio of interaction which have words above averge reponse\n",
    "    above_avg = 0\n",
    "    for i in res_len:\n",
    "        if i > (length_of_response / len(sentence)):\n",
    "            above_avg += 1\n",
    "    return (above_avg / len(res_len))"
   ]
  },
  {
   "cell_type": "code",
   "execution_count": 12,
   "metadata": {},
   "outputs": [],
   "source": [
    "# computing Level of Interest\n",
    "LOI = (level_of_interest(manager.user_responses)) * 5"
   ]
  },
  {
   "cell_type": "code",
   "execution_count": 13,
   "metadata": {},
   "outputs": [
    {
     "name": "stdout",
     "output_type": "stream",
     "text": [
      "Level of Interest is: 1.8181818181818183\n"
     ]
    }
   ],
   "source": [
    "# printing the LOI\n",
    "print (f\"Level of Interest is: {LOI}\")"
   ]
  },
  {
   "cell_type": "code",
   "execution_count": 14,
   "metadata": {},
   "outputs": [],
   "source": [
    "# calculating Information Gain Quality (IGQ)\n",
    "def information_gain_quality(sentence):\n",
    "    sample_sent = []\n",
    "    total_words = 0\n",
    "    unique_words = 0\n",
    "    for i in sentence:\n",
    "        sent = i.split(\" \")\n",
    "        sample_sent.append(sent)\n",
    "    # Concatenate all words into a single list\n",
    "    sample_sent = [word for sublist in sample_sent for word in sublist]\n",
    "    total_words = len(sample_sent)\n",
    "    sample_sent = set(sample_sent)\n",
    "    unique_words = len(sample_sent)\n",
    "    # returning the average response length\n",
    "    return (unique_words / total_words)"
   ]
  },
  {
   "cell_type": "code",
   "execution_count": 15,
   "metadata": {},
   "outputs": [
    {
     "name": "stdout",
     "output_type": "stream",
     "text": [
      "2.9375\n"
     ]
    }
   ],
   "source": [
    "# computing Information Gain Quakity (IGQ)\n",
    "IGQ = (information_gain_quality(manager.user_responses)) * 5\n",
    "print (IGQ)"
   ]
  },
  {
   "cell_type": "code",
   "execution_count": 22,
   "metadata": {},
   "outputs": [
    {
     "name": "stdout",
     "output_type": "stream",
     "text": [
      "Mental State Quality MSQ is: 4.00\n",
      "Information Gathering Quality IGQ is: 2.94\n",
      "Level of Interest LoI is: 1.82\n"
     ]
    }
   ],
   "source": [
    "# viewing at once\n",
    "print (f\"Mental State Quality MSQ is: {MSQ:.02f}\")\n",
    "print (f\"Information Gathering Quality IGQ is: {IGQ:.02f}\")\n",
    "print (f\"Level of Interest LoI is: {LOI:.02f}\")"
   ]
  },
  {
   "cell_type": "code",
   "execution_count": 23,
   "metadata": {},
   "outputs": [
    {
     "name": "stdout",
     "output_type": "stream",
     "text": [
      "The Interaction Quality Metric (IQM) is: 3.24\n"
     ]
    }
   ],
   "source": [
    "# defining metric parameters\n",
    "msq = MSQ\n",
    "igq = IGQ\n",
    "loi = LOI\n",
    "w1 = 5\n",
    "w2 = 3\n",
    "w3 = 2\n",
    "# computing and printing Interaction Quality Metric\n",
    "IQM = metric_eval(msq,igq,loi,w1,w2,w3)\n",
    "print (f\"The Interaction Quality Metric (IQM) is: {IQM:.02f}\")"
   ]
  },
  {
   "cell_type": "code",
   "execution_count": 25,
   "metadata": {},
   "outputs": [
    {
     "name": "stdout",
     "output_type": "stream",
     "text": [
      "Value for Interaction Quality Metric is 3.24: Quality of Interaction is GOOD. Keep it Up MIRob\n"
     ]
    }
   ],
   "source": [
    "# Interpreting the IQM\n",
    "def interpret_IQM(IQM):\n",
    "    if (IQM >= 3.00):\n",
    "        print (f\"Value for Interaction Quality Metric is {IQM:.02f}: Quality of Interaction is GOOD. Keep it Up MIRob\")\n",
    "    else:\n",
    "        print (f\"Value for Interaction Quality Metric is {IQM:.02f}: Quality of Interaction is BAD. You need to imporve MIRob\")\n",
    "\n",
    "# calling the function to get the interpretation\n",
    "interpret_IQM(IQM)"
   ]
  },
  {
   "cell_type": "markdown",
   "metadata": {},
   "source": [
    "## Extracting triplets from sentences"
   ]
  },
  {
   "cell_type": "code",
   "execution_count": 12,
   "metadata": {},
   "outputs": [],
   "source": [
    "import spacy\n",
    "\n",
    "# Load the spaCy English model\n",
    "nlp = spacy.load(\"en_core_web_sm\")\n",
    "\n",
    "# importing networkx library\n",
    "import networkx as nx\n",
    "\n",
    "# importing matplotlib for plotting knowldge graphs\n",
    "import matplotlib.pyplot as plt"
   ]
  },
  {
   "cell_type": "code",
   "execution_count": 53,
   "metadata": {},
   "outputs": [
    {
     "name": "stdout",
     "output_type": "stream",
     "text": [
      "[('Kasun', 'love', 'poetry')]\n",
      "[('Kasun', 'eating', 'rice')]\n",
      "[('Kasun', 'had', 'exam')]\n",
      "[('Kasun', 'learn', 'physics')]\n",
      "[('Kasun', 'play', 'cricket')]\n",
      "[('Kasun', 'visiting', 'Sigiriya')]\n"
     ]
    }
   ],
   "source": [
    "# Sample sentences\n",
    "sentences = [\n",
    "    \"Kasun love reading poetry\",\n",
    "    \"Kasun am now eating rice.\",\n",
    "    \"Today Kasun had exam.\",\n",
    "    \"Kasun learn physics from Mohan\",\n",
    "    \"Kasun like play cricket\",\n",
    "    \"Kasun will be visiting  Sigiriya\"\n",
    "]\n",
    "\n",
    "# Function to extract subject-action-object triples\n",
    "def extract_triplets(sentence):\n",
    "    triplets = []\n",
    "    doc = nlp(sentence)\n",
    "    \n",
    "    for chunk in doc.noun_chunks:\n",
    "        if chunk.root.dep_ == \"nsubj\" and chunk.root.head.dep_ == \"ROOT\":\n",
    "            subject = chunk.text\n",
    "            action = chunk.root.head.text\n",
    "            obj = [child.text for child in chunk.root.head.rights if child.dep_ == \"dobj\"]\n",
    "            if obj:\n",
    "                obj = obj[0]\n",
    "                triplets.append((subject, action, obj))\n",
    "    \n",
    "    return triplets\n",
    "\n",
    "# Extract and print triples from each sentence\n",
    "for sentence in sentences:\n",
    "    triples = extract_triplets(sentence)\n",
    "    if triples:\n",
    "        print(triples)\n",
    "    else:\n",
    "        print(\"No triples found in:\", sentence)\n"
   ]
  },
  {
   "cell_type": "code",
   "execution_count": 54,
   "metadata": {},
   "outputs": [
    {
     "data": {
      "image/png": "[encoded data removed]",
      "text/plain": [
       "<Figure size 640x480 with 1 Axes>"
      ]
     },
     "metadata": {},
     "output_type": "display_data"
    }
   ],
   "source": [
    "# Create a directed graph using NetworkX\n",
    "G = nx.DiGraph()\n",
    "\n",
    "# Extract triples and add nodes and edges to the graph\n",
    "for sentence in sentences:\n",
    "    triples = extract_triplets(sentence)\n",
    "    for triplet in triples:\n",
    "        subject, action, obj = triplet\n",
    "        G.add_node(subject)\n",
    "        G.add_node(obj)\n",
    "        G.add_edge(subject, obj, action=action)\n",
    "\n",
    "# Draw the knowledge graph\n",
    "pos = nx.spring_layout(G, seed=42)  # Adjust layout for better visualization\n",
    "\n",
    "nx.draw_networkx_nodes(G, pos, node_color='lightblue', node_size=1000)\n",
    "nx.draw_networkx_edges(G, pos, edge_color='gray', arrows=False)\n",
    "nx.draw_networkx_labels(G, pos, font_size=10, font_color='black')\n",
    "\n",
    "edge_labels = {(u, v): d['action'] for u, v, d in G.edges(data=True)}\n",
    "nx.draw_networkx_edge_labels(G, pos, edge_labels=edge_labels, font_size=8)\n",
    "\n",
    "plt.axis('off')\n",
    "plt.show()"
   ]
  },
  {
   "cell_type": "code",
   "execution_count": null,
   "metadata": {},
   "outputs": [],
   "source": []
  }
 ],
 "metadata": {
  "kernelspec": {
   "display_name": "Python 3",
   "language": "python",
   "name": "python3"
  },
  "language_info": {
   "codemirror_mode": {
    "name": "ipython",
    "version": 3
   },
   "file_extension": ".py",
   "mimetype": "text/x-python",
   "name": "python",
   "nbconvert_exporter": "python",
   "pygments_lexer": "ipython3",
   "version": "3.10.9"
  },
  "orig_nbformat": 4
 },
 "nbformat": 4,
 "nbformat_minor": 2
}
